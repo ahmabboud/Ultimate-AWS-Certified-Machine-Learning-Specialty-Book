{
 "cells": [
  {
   "cell_type": "code",
   "execution_count": null,
   "id": "500485c2-a33f-4531-b476-e75fd03cedba",
   "metadata": {},
   "outputs": [],
   "source": []
  },
  {
   "cell_type": "code",
   "execution_count": 1,
   "id": "c8ed16cb-0d60-4666-beb6-9e4c1447f9f4",
   "metadata": {},
   "outputs": [
    {
     "name": "stdout",
     "output_type": "stream",
     "text": [
      "sagemaker.config INFO - Not applying SDK defaults from location: /etc/xdg/sagemaker/config.yaml\n",
      "sagemaker.config INFO - Not applying SDK defaults from location: /home/sagemaker-user/.config/sagemaker/config.yaml\n"
     ]
    }
   ],
   "source": [
    "import os\n",
    "import boto3\n",
    "import sagemaker\n",
    "from sagemaker import get_execution_role\n",
    "from sagemaker.session import Session\n",
    "from sagemaker.inputs import TrainingInput\n",
    "from sagemaker.estimator import Estimator\n",
    "from sagemaker.serializers import CSVSerializer\n",
    "from sagemaker.deserializers import JSONDeserializer\n",
    "from sklearn.datasets import load_iris\n",
    "from sklearn.model_selection import train_test_split\n",
    "import pandas as pd\n",
    "import numpy as np\n",
    "from sklearn.metrics import accuracy_score\n",
    "from sagemaker.predictor import Predictor\n",
    "import json\n",
    "from sklearn.metrics import accuracy_score, precision_recall_fscore_support, confusion_matrix"
   ]
  },
  {
   "cell_type": "code",
   "execution_count": 2,
   "id": "e4b7be7d-ed97-4b61-8b3a-8cac1c143c4d",
   "metadata": {},
   "outputs": [],
   "source": [
    "# Set up SageMaker session and role\n",
    "session = Session()\n",
    "role = get_execution_role()\n",
    "region = session.boto_region_name"
   ]
  },
  {
   "cell_type": "code",
   "execution_count": 3,
   "id": "0b5a5488-500c-42b8-a927-c84f19aee86b",
   "metadata": {},
   "outputs": [],
   "source": [
    "# Get the built-in XGBoost container URI\n",
    "container = sagemaker.image_uris.retrieve(\"xgboost\", region, version=\"1.5-1\")\n",
    "\n",
    "# Create local directory for data\n",
    "os.makedirs(\"data\", exist_ok=True)"
   ]
  },
  {
   "cell_type": "code",
   "execution_count": 4,
   "id": "99d2fe20-4030-4d3a-b361-72a77c18e105",
   "metadata": {},
   "outputs": [],
   "source": [
    "\n",
    "# Load and prepare a smaller subset of the Iris dataset (50 samples)\n",
    "iris = load_iris()\n",
    "X, y = iris.data, iris.target\n",
    "subset_indices = np.random.choice(len(X), size=50, replace=False)  # Random 50 samples\n",
    "X, y = X[subset_indices], y[subset_indices]\n",
    "X_train, X_test, y_train, y_test = train_test_split(X, y, test_size=0.2, random_state=42)"
   ]
  },
  {
   "cell_type": "code",
   "execution_count": 5,
   "id": "f6b00452-2570-440e-b0b3-f45b69f8846e",
   "metadata": {},
   "outputs": [],
   "source": [
    "# Prepare DataFrames in XGBoost format (target first)\n",
    "train_data = pd.DataFrame(np.c_[y_train, X_train])  # Target column first\n",
    "test_data = pd.DataFrame(np.c_[y_test, X_test])  # Target column first\n",
    "\n",
    "train_path = \"data/train.csv\"\n",
    "test_path = \"data/test.csv\"\n",
    "train_data.to_csv(train_path, index=False, header=False)\n",
    "test_data.to_csv(test_path, index=False, header=False)"
   ]
  },
  {
   "cell_type": "code",
   "execution_count": 6,
   "id": "649b2ed7-90da-45b3-927d-13b14ec8bbcd",
   "metadata": {},
   "outputs": [],
   "source": [
    "# **Upload datasets to S3**\n",
    "s3_bucket = session.default_bucket()  # Use default SageMaker S3 bucket\n",
    "s3_prefix = \"sagemaker-xgboost-iris-small\"\n",
    "train_s3_path = session.upload_data(train_path, bucket=s3_bucket, key_prefix=s3_prefix)\n",
    "test_s3_path = session.upload_data(test_path, bucket=s3_bucket, key_prefix=s3_prefix)"
   ]
  },
  {
   "cell_type": "code",
   "execution_count": 9,
   "id": "d631e76c-f741-4887-91ea-2d77768d9493",
   "metadata": {},
   "outputs": [],
   "source": [
    "# **Use SageMaker's Built-in XGBoost Model (No Script Needed)**\n",
    "xgb = Estimator(\n",
    "    image_uri=container,\n",
    "    role=role,\n",
    "    instance_count=1,\n",
    "    instance_type=\"ml.m5.large\",  # Enforced instance type\n",
    "    output_path=f\"s3://{s3_bucket}/{s3_prefix}/model\",\n",
    "    sagemaker_session=session,\n",
    "    hyperparameters={\n",
    "        \"max_depth\": 3,  # Smaller tree depth\n",
    "        \"eta\": 0.1,  # Lower learning rate\n",
    "        \"gamma\": 2,  # Less pruning\n",
    "        \"min_child_weight\": 3,\n",
    "        \"subsample\": 0.8,\n",
    "        \"objective\": \"multi:softprob\",\n",
    "        \"num_class\": 3,\n",
    "        \"num_round\": 8,  # Fewer training iterations\n",
    "    },\n",
    ")"
   ]
  },
  {
   "cell_type": "code",
   "execution_count": 10,
   "id": "0913648d-bacd-4a72-aa57-b60bfb44029b",
   "metadata": {},
   "outputs": [
    {
     "name": "stderr",
     "output_type": "stream",
     "text": [
      "INFO:sagemaker:Creating training-job with name: sagemaker-xgboost-2025-02-23-22-12-13-299\n"
     ]
    },
    {
     "name": "stdout",
     "output_type": "stream",
     "text": [
      "2025-02-23 22:12:14 Starting - Starting the training job...\n",
      "2025-02-23 22:12:28 Starting - Preparing the instances for training...\n",
      "2025-02-23 22:12:50 Downloading - Downloading input data...\n",
      "2025-02-23 22:13:36 Downloading - Downloading the training image......\n",
      "2025-02-23 22:14:42 Training - Training image download completed. Training in progress.\n",
      "2025-02-23 22:14:42 Uploading - Uploading generated training model\u001b[34m/miniconda3/lib/python3.8/site-packages/xgboost/compat.py:36: FutureWarning: pandas.Int64Index is deprecated and will be removed from pandas in a future version. Use pandas.Index with the appropriate dtype instead.\n",
      "  from pandas import MultiIndex, Int64Index\u001b[0m\n",
      "\u001b[34m[2025-02-23 22:14:37.234 ip-10-2-192-205.ec2.internal:7 INFO utils.py:28] RULE_JOB_STOP_SIGNAL_FILENAME: None\u001b[0m\n",
      "\u001b[34m[2025-02-23 22:14:37.266 ip-10-2-192-205.ec2.internal:7 INFO profiler_config_parser.py:111] User has disabled profiler.\u001b[0m\n",
      "\u001b[34m[2025-02-23:22:14:37:INFO] Imported framework sagemaker_xgboost_container.training\u001b[0m\n",
      "\u001b[34m[2025-02-23:22:14:37:INFO] Failed to parse hyperparameter objective value multi:softprob to Json.\u001b[0m\n",
      "\u001b[34mReturning the value itself\u001b[0m\n",
      "\u001b[34m[2025-02-23:22:14:37:INFO] No GPUs detected (normal if no gpus installed)\u001b[0m\n",
      "\u001b[34m[2025-02-23:22:14:37:INFO] Running XGBoost Sagemaker in algorithm mode\u001b[0m\n",
      "\u001b[34m[2025-02-23:22:14:37:INFO] Determined 0 GPU(s) available on the instance.\u001b[0m\n",
      "\u001b[34m[2025-02-23:22:14:37:INFO] Determined delimiter of CSV input is ','\u001b[0m\n",
      "\u001b[34m[2025-02-23:22:14:37:INFO] Determined delimiter of CSV input is ','\u001b[0m\n",
      "\u001b[34m[2025-02-23:22:14:37:INFO] files path: /opt/ml/input/data/train\u001b[0m\n",
      "\u001b[34m[2025-02-23:22:14:37:INFO] Determined delimiter of CSV input is ','\u001b[0m\n",
      "\u001b[34m[2025-02-23:22:14:37:INFO] files path: /opt/ml/input/data/validation\u001b[0m\n",
      "\u001b[34m[2025-02-23:22:14:37:INFO] Determined delimiter of CSV input is ','\u001b[0m\n",
      "\u001b[34m[2025-02-23:22:14:37:INFO] Single node training.\u001b[0m\n",
      "\u001b[34m[2025-02-23:22:14:37:INFO] Train matrix has 40 rows and 4 columns\u001b[0m\n",
      "\u001b[34m[2025-02-23:22:14:37:INFO] Validation matrix has 10 rows\u001b[0m\n",
      "\u001b[34m[2025-02-23 22:14:37.683 ip-10-2-192-205.ec2.internal:7 INFO json_config.py:92] Creating hook from json_config at /opt/ml/input/config/debughookconfig.json.\u001b[0m\n",
      "\u001b[34m[2025-02-23 22:14:37.684 ip-10-2-192-205.ec2.internal:7 INFO hook.py:206] tensorboard_dir has not been set for the hook. SMDebug will not be exporting tensorboard summaries.\u001b[0m\n",
      "\u001b[34m[2025-02-23 22:14:37.685 ip-10-2-192-205.ec2.internal:7 INFO hook.py:259] Saving to /opt/ml/output/tensors\u001b[0m\n",
      "\u001b[34m[2025-02-23 22:14:37.685 ip-10-2-192-205.ec2.internal:7 INFO state_store.py:77] The checkpoint config file /opt/ml/input/config/checkpointconfig.json does not exist.\u001b[0m\n",
      "\u001b[34m[2025-02-23:22:14:37:INFO] Debug hook created from config\u001b[0m\n",
      "\u001b[34m[22:14:37] WARNING: ../src/learner.cc:1115: Starting in XGBoost 1.3.0, the default evaluation metric used with the objective 'multi:softprob' was changed from 'merror' to 'mlogloss'. Explicitly set eval_metric if you'd like to restore the old behavior.\u001b[0m\n",
      "\u001b[34m[2025-02-23 22:14:37.703 ip-10-2-192-205.ec2.internal:7 INFO hook.py:427] Monitoring the collections: metrics\u001b[0m\n",
      "\u001b[34m[2025-02-23 22:14:37.707 ip-10-2-192-205.ec2.internal:7 INFO hook.py:491] Hook is writing from the hook with pid: 7\u001b[0m\n",
      "\u001b[34m[0]#011train-mlogloss:0.98925#011validation-mlogloss:1.01818\u001b[0m\n",
      "\u001b[34m[1]#011train-mlogloss:0.88782#011validation-mlogloss:0.92838\u001b[0m\n",
      "\u001b[34m[2]#011train-mlogloss:0.80331#011validation-mlogloss:0.85623\u001b[0m\n",
      "\u001b[34m[3]#011train-mlogloss:0.72735#011validation-mlogloss:0.79157\u001b[0m\n",
      "\u001b[34m[4]#011train-mlogloss:0.66070#011validation-mlogloss:0.73519\u001b[0m\n",
      "\u001b[34m[5]#011train-mlogloss:0.60223#011validation-mlogloss:0.68644\u001b[0m\n",
      "\u001b[34m[6]#011train-mlogloss:0.55033#011validation-mlogloss:0.64980\u001b[0m\n",
      "\u001b[34m[7]#011train-mlogloss:0.51956#011validation-mlogloss:0.62431\u001b[0m\n",
      "\n",
      "2025-02-23 22:14:55 Completed - Training job completed\n",
      "Training seconds: 125\n",
      "Billable seconds: 125\n"
     ]
    }
   ],
   "source": [
    "# **Train the model using TrainingInput**\n",
    "train_input = TrainingInput(train_s3_path, content_type=\"csv\")\n",
    "test_input = TrainingInput(test_s3_path, content_type=\"csv\")\n",
    "xgb.fit({\"train\": train_input, \"validation\": test_input})\n"
   ]
  },
  {
   "cell_type": "code",
   "execution_count": 11,
   "id": "33ce7e25-5d6c-4a66-9d90-ce2a3e4e11de",
   "metadata": {},
   "outputs": [
    {
     "name": "stderr",
     "output_type": "stream",
     "text": [
      "INFO:sagemaker:Creating model with name: sagemaker-xgboost-2025-02-23-22-15-37-212\n",
      "INFO:sagemaker:Creating endpoint-config with name sagemaker-xgboost-2025-02-23-22-15-37-212\n",
      "INFO:sagemaker:Creating endpoint with name sagemaker-xgboost-2025-02-23-22-15-37-212\n"
     ]
    },
    {
     "name": "stdout",
     "output_type": "stream",
     "text": [
      "------!"
     ]
    }
   ],
   "source": [
    "# **Deploy the trained model **\n",
    "xgb_predictor = xgb.deploy(\n",
    "    initial_instance_count=1,\n",
    "    instance_type=\"ml.m5.large\",  # Make sure the instance type is available at your region.\n",
    "    serializer=CSVSerializer(),\n",
    "    deserializer=JSONDeserializer(),\n",
    ")\n",
    "\n",
    "\n"
   ]
  },
  {
   "cell_type": "code",
   "execution_count": 12,
   "id": "3ab36627-a0e8-4a7a-8941-849378771d6e",
   "metadata": {},
   "outputs": [
    {
     "name": "stdout",
     "output_type": "stream",
     "text": [
      "Raw Response: {\"predictions\": [{\"score\": [0.6133274435997009, 0.19765879213809967, 0.1890137642621994]}, {\"score\": [0.1820436269044876, 0.2005375325679779, 0.6174188256263733]}, {\"score\": [0.6133274435997009, 0.19765879213809967, 0.1890137642621994]}, {\"score\": [0.6133274435997009, 0.19765879213809967, 0.1890137642621994]}, {\"score\": [0.1899353265762329, 0.5734841227531433, 0.23658053576946259]}, {\"score\": [0.6133274435997009, 0.19765879213809967, 0.1890137642621994]}, {\"score\": [0.20267529785633087, 0.22326521575450897, 0.5740594863891602]}, {\"score\": [0.21333828568458557, 0.564743161201477, 0.22191855311393738]}, {\"score\": [0.1976446956396103, 0.5967615246772766, 0.20559380948543549]}, {\"score\": [0.1820436269044876, 0.2005375325679779, 0.6174188256263733]}]}\n",
      "Predicted Classes: [0, 2, 0, 0, 1, 0, 2, 1, 1, 2]\n"
     ]
    }
   ],
   "source": [
    "\n",
    "\n",
    "# Assuming the model is already deployed\n",
    "predictor = Predictor(endpoint_name=xgb_predictor.endpoint_name)\n",
    "\n",
    "# Convert the test data to CSV (no headers, no index)\n",
    "X_test_df = pd.DataFrame(X_test)  # Assuming X_test is your test data\n",
    "payload = X_test_df.to_csv(header=False, index=False).encode(\"utf-8\")\n",
    "\n",
    "# Manually set the content type when calling the endpoint\n",
    "response = predictor.sagemaker_session.sagemaker_runtime_client.invoke_endpoint(\n",
    "    EndpointName=predictor.endpoint_name,\n",
    "    ContentType='text/csv',  # specify the content type\n",
    "    Accept='application/json',  # expected response type\n",
    "    Body=payload\n",
    ")\n",
    "\n",
    "# Read the response\n",
    "response_body = response['Body'].read().decode(\"utf-8\")\n",
    "\n",
    "# Print the raw response to debug\n",
    "print(f\"Raw Response: {response_body}\")\n",
    "\n",
    "# Assuming response is a JSON array or a dictionary with a 'predictions' key\n",
    "response_dict = json.loads(response_body)\n",
    "predictions = response_dict['predictions']\n",
    "\n",
    "# Extracting the 'score' values and applying np.argmax to each\n",
    "predicted_classes = [np.argmax(item['score']) for item in predictions]\n",
    "\n",
    "print(f\"Predicted Classes: {predicted_classes}\")\n",
    "\n",
    "\n",
    "\n"
   ]
  },
  {
   "cell_type": "code",
   "execution_count": 13,
   "id": "65c63f98-1adf-467b-acf7-64423af5f32c",
   "metadata": {},
   "outputs": [
    {
     "name": "stdout",
     "output_type": "stream",
     "text": [
      "Endpoint Name: sagemaker-xgboost-2025-02-23-22-15-37-212\n"
     ]
    }
   ],
   "source": [
    "print(f\"Endpoint Name: {xgb_predictor.endpoint_name}\")"
   ]
  },
  {
   "cell_type": "code",
   "execution_count": 14,
   "id": "bf7484ae-8e8f-4352-9250-372221a56487",
   "metadata": {},
   "outputs": [
    {
     "name": "stdout",
     "output_type": "stream",
     "text": [
      "Accuracy: 0.3000\n",
      "Precision: 0.4083\n",
      "Recall: 0.3000\n",
      "F1 Score: 0.3357\n",
      "Confusion Matrix:\n",
      "[[1 1 1]\n",
      " [1 2 2]\n",
      " [2 0 0]]\n"
     ]
    }
   ],
   "source": [
    "\n",
    "\n",
    "# Assuming you have your true labels (y_test) and predicted classes (predicted_classes) from the previous cell\n",
    "\n",
    "# Example of true labels (y_test) – replace with your actual values\n",
    "y_test = [0, 1, 2, 2, 1, 1, 0, 0, 1, 1]\n",
    "\n",
    "# Calculate accuracy\n",
    "accuracy = accuracy_score(y_test, predicted_classes)\n",
    "print(f\"Accuracy: {accuracy:.4f}\")\n",
    "\n",
    "# Calculate precision, recall, F1-score\n",
    "precision, recall, f1, _ = precision_recall_fscore_support(y_test, predicted_classes, average='weighted')\n",
    "print(f\"Precision: {precision:.4f}\")\n",
    "print(f\"Recall: {recall:.4f}\")\n",
    "print(f\"F1 Score: {f1:.4f}\")\n",
    "\n",
    "# Confusion matrix\n",
    "conf_matrix = confusion_matrix(y_test, predicted_classes)\n",
    "print(f\"Confusion Matrix:\\n{conf_matrix}\")\n"
   ]
  },
  {
   "cell_type": "code",
   "execution_count": null,
   "id": "568dc4e7-5445-4f06-8154-82e53daaeeda",
   "metadata": {},
   "outputs": [],
   "source": [
    "# **Clean up resources**"
   ]
  },
  {
   "cell_type": "code",
   "execution_count": 15,
   "id": "62678c1a-8ff3-4122-b6a9-867b8763a515",
   "metadata": {},
   "outputs": [
    {
     "name": "stderr",
     "output_type": "stream",
     "text": [
      "INFO:sagemaker:Deleting model with name: sagemaker-xgboost-2025-02-23-22-15-37-212\n",
      "INFO:sagemaker:Deleting endpoint configuration with name: sagemaker-xgboost-2025-02-23-22-15-37-212\n",
      "INFO:sagemaker:Deleting endpoint with name: sagemaker-xgboost-2025-02-23-22-15-37-212\n"
     ]
    }
   ],
   "source": [
    "# **Clean up resources**\n",
    "xgb_predictor.delete_model()\n",
    "xgb_predictor.delete_endpoint()"
   ]
  },
  {
   "cell_type": "code",
   "execution_count": null,
   "id": "ba932bf8-2fe6-4a10-860c-bcc472f11d41",
   "metadata": {},
   "outputs": [],
   "source": []
  }
 ],
 "metadata": {
  "kernelspec": {
   "display_name": "Python 3 (ipykernel)",
   "language": "python",
   "name": "python3"
  },
  "language_info": {
   "codemirror_mode": {
    "name": "ipython",
    "version": 3
   },
   "file_extension": ".py",
   "mimetype": "text/x-python",
   "name": "python",
   "nbconvert_exporter": "python",
   "pygments_lexer": "ipython3",
   "version": "3.11.11"
  }
 },
 "nbformat": 4,
 "nbformat_minor": 5
}
