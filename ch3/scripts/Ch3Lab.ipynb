{
    "cells": [
     {
      "cell_type": "markdown",
      "metadata": {},
      "source": [
       "# Titanic Data Visualization and Bias Evaluation Lab\n",
       "\n",
       "This lab is designed to help you explore data visualization using Python libraries and Amazon QuickSight.\n",
       "The lab focuses on the Titanic dataset and evaluates potential biases in survival rates based on gender (`gender`) and passenger class (`pclass`)."
      ]
     },
     {
      "cell_type": "markdown",
      "metadata": {},
      "source": [
       "## Objectives\n",
       "- Perform basic data visualization using Python.\n",
       "- Create an interactive dashboard in Amazon QuickSight.\n",
       "- Evaluate potential bias in survival rates based on gender and passenger class."
      ]
     },
     {
      "cell_type": "code",
      "execution_count": null,
      "metadata": {},
      "outputs": [],
      "source": [
       "# Install Required Libraries\n",
       "!pip install pandas seaborn matplotlib boto3 pydataset"
      ]
     },
     {
      "cell_type": "markdown",
      "metadata": {},
      "source": [
       "## Step 1: Load and Explore the Titanic Dataset"
      ]
     },
     {
      "cell_type": "code",
      "execution_count": null,
      "metadata": {},
      "outputs": [],
      "source": [
       "# Import necessary libraries\n",
       "from pydataset import data\n",
       "import pandas as pd\n",
       "\n",
       "# Load Titanic dataset from pydataset\n",
       "titanic = data('titanic')\n",
       "\n",
       "# Preview the dataset to understand its structure\n",
       "print(titanic.head())"
      ]
     },
     {
      "cell_type": "markdown",
      "metadata": {},
      "source": [
       "## Step 2: Data Preparation"
      ]
     },
     {
      "cell_type": "code",
      "execution_count": null,
      "metadata": {},
      "outputs": [],
      "source": [
       "# Rename columns for clarity\n",
       "titanic.rename(columns={'class': 'pclass', 'age': 'age_group', 'sex': 'gender', 'survived': 'survived_status'}, inplace=True)\n",
       "\n",
       "# Convert 'survived_status' to binary (0 = No, 1 = Yes)\n",
       "titanic['survived'] = titanic['survived_status'].apply(lambda x: 1 if x == 'yes' else 0)\n",
       "\n",
       "# Display summary statistics of relevant fields\n",
       "print(titanic[['gender', 'pclass', 'survived']].describe())"
      ]
     },
     {
      "cell_type": "markdown",
      "metadata": {},
      "source": [
       "## Step 3: Visualize Data Using Python"
      ]
     },
     {
      "cell_type": "markdown",
      "metadata": {},
      "source": [
       "### 3.1 Survival Rates by Gender"
      ]
     },
     {
      "cell_type": "code",
      "execution_count": null,
      "metadata": {},
      "outputs": [],
      "source": [
       "# Import visualization libraries\n",
       "import seaborn as sns\n",
       "import matplotlib.pyplot as plt\n",
       "\n",
       "# Bar plot for survival rates by gender\n",
       "sns.countplot(x='survived', hue='gender', data=titanic)\n",
       "plt.title('Survival Rates by Gender')\n",
       "plt.xlabel('Survived (0 = No, 1 = Yes)')\n",
       "plt.ylabel('Count')\n",
       "plt.legend(title='Gender')\n",
       "plt.show()"
      ]
     },
     {
      "cell_type": "markdown",
      "metadata": {},
      "source": [
       "### 3.2 Survival Rates by Passenger Class"
      ]
     },
     {
      "cell_type": "code",
      "execution_count": null,
      "metadata": {},
      "outputs": [],
      "source": [
       "# Bar plot for survival rates by passenger class\n",
       "sns.countplot(x='survived', hue='pclass', data=titanic)\n",
       "plt.title('Survival Rates by Passenger Class')\n",
       "plt.xlabel('Survived (0 = No, 1 = Yes)')\n",
       "plt.ylabel('Count')\n",
       "plt.legend(title='Passenger Class')\n",
       "plt.show()"
      ]
     },
     {
      "cell_type": "markdown",
      "metadata": {},
      "source": [
       "## Step 4: Save Dataset for Amazon QuickSight"
      ]
     },
     {
      "cell_type": "code",
      "execution_count": null,
      "metadata": {},
      "outputs": [],
      "source": [
       "# Save filtered dataset to CSV for Amazon QuickSight\n",
       "# Save only relevant fields: gender, pclass, survived\n",
       "\n",
       "# Save to the ch3/datasets/ directory\n",
       "!mkdir -p ch3/datasets/\n",
       "filtered_path = 'ch3/datasets/titanic_filtered.csv'\n",
       "titanic[['gender', 'pclass', 'survived']].to_csv(filtered_path, index=False)"
      ]
     }
    ],
    "metadata": {
     "kernelspec": {
      "display_name": "Python 3",
      "language": "python",
      "name": "python3"
     },
     "language_info": {
      "codemirror_mode": {
       "name": "ipython",
       "version": 3
      },
      "file_extension": ".py",
      "mimetype": "text/x-python",
      "name": "python",
      "nbconvert_exporter": "python",
      "pygments_lexer": "ipython3",
      "version": "3.8.5"
     }
    },
    "nbformat": 4,
    "nbformat_minor": 5
   }
   